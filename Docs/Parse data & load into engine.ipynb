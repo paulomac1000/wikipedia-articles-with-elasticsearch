{
 "cells": [
  {
   "cell_type": "markdown",
   "metadata": {},
   "source": [
    "## Imports"
   ]
  },
  {
   "cell_type": "code",
   "execution_count": null,
   "metadata": {},
   "outputs": [],
   "source": [
    "from itertools import islice\n",
    "import xml.etree.cElementTree as ET\n",
    "import datetime\n",
    "import requests\n",
    "import json\n",
    "import time"
   ]
  },
  {
   "cell_type": "markdown",
   "metadata": {},
   "source": [
    "## Show file"
   ]
  },
  {
   "cell_type": "code",
   "execution_count": null,
   "metadata": {},
   "outputs": [],
   "source": [
    "##TODO: download file from url if not exist\n",
    "\n",
    "name = \"plwiki-latest-abstract.xml\"\n",
    "N = 50\n",
    "\n",
    "with open(name, encoding=\"utf8\") as myfile:\n",
    "    head = list(islice(myfile, N))\n",
    "\n",
    "for row in list(head):\n",
    "    print(row)"
   ]
  },
  {
   "cell_type": "markdown",
   "metadata": {},
   "source": [
    "## Parse file to XML structure and show no of nodes"
   ]
  },
  {
   "cell_type": "code",
   "execution_count": null,
   "metadata": {},
   "outputs": [],
   "source": [
    "root = ET.parse(name).getroot()\n",
    "len(root)"
   ]
  },
  {
   "cell_type": "markdown",
   "metadata": {},
   "source": [
    "## Some articles have not been well exported to the xml file, so I should skip them. I use a simple scheme - if the description is not long enough, I ignore it. It will also be useful for further exploration of documents, because too short entries are worthless"
   ]
  },
  {
   "cell_type": "code",
   "execution_count": null,
   "metadata": {},
   "outputs": [],
   "source": [
    "datas = []\n",
    "\n",
    "for doc in list(root.findall('doc')):\n",
    "    title = doc.find('title').text\n",
    "    content = doc.find('abstract').text\n",
    "    if (content == None):\n",
    "        continue\n",
    "    if (len(content.replace(\" \", \"\")) > 40):\n",
    "        data = {}\n",
    "        try:\n",
    "          data['Title'] = title.replace(\"Wikipedia: \", \"\")\n",
    "        except:\n",
    "          continue\n",
    "        data['Content'] = content\n",
    "        datas.append(data)"
   ]
  },
  {
   "cell_type": "markdown",
   "metadata": {},
   "source": [
    "## Preview of the prepared structure that will be added to the elasticsearch database"
   ]
  },
  {
   "cell_type": "code",
   "execution_count": null,
   "metadata": {},
   "outputs": [],
   "source": [
    "for data in datas[:10]:\n",
    "    print(data['Title'])\n",
    "    print(data['Content'])"
   ]
  },
  {
   "cell_type": "markdown",
   "metadata": {},
   "source": [
    "## Loaded XML file should be deleted from memory, because it requires a lot of memory"
   ]
  },
  {
   "cell_type": "code",
   "execution_count": null,
   "metadata": {},
   "outputs": [],
   "source": [
    "root.clear()\n",
    "del root"
   ]
  },
  {
   "cell_type": "markdown",
   "metadata": {},
   "source": [
    "## Number of elements after filtering based on length. It is important how much has been ignored"
   ]
  },
  {
   "cell_type": "code",
   "execution_count": null,
   "metadata": {},
   "outputs": [],
   "source": [
    "len(datas)"
   ]
  },
  {
   "cell_type": "markdown",
   "metadata": {},
   "source": [
    "## We can now add entries to the database using the configured elasticsearch database API"
   ]
  },
  {
   "cell_type": "code",
   "execution_count": null,
   "metadata": {},
   "outputs": [],
   "source": [
    "base_push_url = \"http://192.168.1.107:9200/wiki_abstract_pl/\"\n",
    "push_url = base_push_url + \"_doc/\"\n",
    "headers = {\n",
    "    'Content-type': 'application/json'\n",
    "}\n",
    "\n",
    "start_time = time.time()\n",
    "\n",
    "## TODO:\n",
    "## Bulk add http://queirozf.com/entries/elasticsearch-bulk-inserting-examples\n",
    "\n",
    "failed_datas = []\n",
    "\n",
    "for data in datas:\n",
    "    date = datetime.datetime.today().strftime('%Y-%m-%dT%H:%m:%S')\n",
    "    body = {\n",
    "        \"title\" : data['Title'],\n",
    "        \"content\" : data['Content'],\n",
    "        \"post_date\" : date\n",
    "    }\n",
    "    try:\n",
    "        requests.post(push_url, data = json.dumps(data), headers = headers)\n",
    "    except:\n",
    "        print(\"error for:\" + json.dumps(data))\n",
    "        time.sleep(10)\n",
    "        failed_datas.append(data)\n",
    "        \n",
    "for data in failed_datas:\n",
    "    date = datetime.datetime.today().strftime('%Y-%m-%dT%H:%m:%S')\n",
    "    body = {\n",
    "        \"title\" : data['Title'],\n",
    "        \"content\" : data['Content'],\n",
    "        \"post_date\" : date\n",
    "    }\n",
    "    try:\n",
    "        requests.post(push_url, data = json.dumps(data), headers = headers)\n",
    "    except:\n",
    "        print(\"permanent error for:\" + json.dumps(data))\n",
    "        time.sleep(3)\n",
    "\n",
    "print(\"done\")\n",
    "\n",
    "elapsed_time = time.time() - start_time\n",
    "print(\"elapsed time: \" + str(elapsed_time) + \" seconds\")"
   ]
  },
  {
   "cell_type": "markdown",
   "metadata": {},
   "source": [
    "## Check if files exists (response = 200)"
   ]
  },
  {
   "cell_type": "code",
   "execution_count": null,
   "metadata": {},
   "outputs": [],
   "source": [
    "response = requests.post(base_push_url)\n",
    "response.status_code"
   ]
  }
 ],
 "metadata": {
  "kernelspec": {
   "display_name": "Python 3",
   "language": "python",
   "name": "python3"
  },
  "language_info": {
   "codemirror_mode": {
    "name": "ipython",
    "version": 3
   },
   "file_extension": ".py",
   "mimetype": "text/x-python",
   "name": "python",
   "nbconvert_exporter": "python",
   "pygments_lexer": "ipython3",
   "version": "3.7.4"
  }
 },
 "nbformat": 4,
 "nbformat_minor": 2
}
