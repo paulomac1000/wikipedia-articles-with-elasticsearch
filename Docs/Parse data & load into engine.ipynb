{
 "cells": [
  {
   "cell_type": "markdown",
   "metadata": {},
   "source": [
    "## Imports"
   ]
  },
  {
   "cell_type": "code",
   "execution_count": 1,
   "metadata": {},
   "outputs": [],
   "source": [
    "import os\n",
    "from urllib.request import urlopen\n",
    "import gzip\n",
    "import shutil\n",
    "from itertools import islice\n",
    "import xml.etree.cElementTree as ET\n",
    "import datetime\n",
    "import requests\n",
    "import json\n",
    "import time\n",
    "from elasticsearch import Elasticsearch\n",
    "from elasticsearch import helpers"
   ]
  },
  {
   "cell_type": "markdown",
   "metadata": {},
   "source": [
    "## Download file if not exist"
   ]
  },
  {
   "cell_type": "code",
   "execution_count": 2,
   "metadata": {},
   "outputs": [
    {
     "name": "stdout",
     "output_type": "stream",
     "text": [
      "download took: 32 seconds\n"
     ]
    }
   ],
   "source": [
    "file_url = 'https://dumps.wikimedia.org/plwiki/latest/plwiki-latest-abstract.xml.gz'\n",
    "file_name = \"plwiki-latest-abstract.xml\"\n",
    "\n",
    "start_time = time.time()\n",
    "\n",
    "archive_name = file_url.split('/')[-1]\n",
    "\n",
    "outfile = open(archive_name, \"wb\")\n",
    "outfile.write(urlopen(file_url).read())\n",
    "outfile.close()\n",
    "with gzip.open(archive_name, 'rb') as f_in:\n",
    "    with open(file_name, 'wb') as f_out:\n",
    "        shutil.copyfileobj(f_in, f_out)\n",
    "        \n",
    "elapsed_time = time.time() - start_time\n",
    "print(\"download took: \" + str(round(elapsed_time)) + \" seconds\")"
   ]
  },
  {
   "cell_type": "markdown",
   "metadata": {},
   "source": [
    "## Show file"
   ]
  },
  {
   "cell_type": "code",
   "execution_count": 3,
   "metadata": {},
   "outputs": [
    {
     "name": "stdout",
     "output_type": "stream",
     "text": [
      "<feed>\n",
      "\n",
      "<doc>\n",
      "\n",
      "<title>Wikipedia: AWK</title>\n",
      "\n",
      "<url>https://pl.wikipedia.org/wiki/AWK</url>\n",
      "\n",
      "<abstract>AWK – interpretowany język programowania, którego główną funkcją jest wyszukiwanie i przetwarzanie wzorców w plikach lub strumieniach danych. Jest także nazwą programu początkowo dostępnego dla systemów operacyjnych będących pochodnymi UNIX-a, obecnie także na inne platformy.</abstract>\n",
      "\n",
      "<links>\n",
      "\n",
      "<sublink linktype=\"nav\"><anchor>Struktura programów AWK</anchor><link>https://pl.wikipedia.org/wiki/AWK#Struktura_programów_AWK</link></sublink>\n",
      "\n",
      "<sublink linktype=\"nav\"><anchor>Komendy i składnia</anchor><link>https://pl.wikipedia.org/wiki/AWK#Komendy_i_składnia</link></sublink>\n",
      "\n",
      "<sublink linktype=\"nav\"><anchor>print</anchor><link>https://pl.wikipedia.org/wiki/AWK#print</link></sublink>\n",
      "\n",
      "<sublink linktype=\"nav\"><anchor>Zmienne i tablice</anchor><link>https://pl.wikipedia.org/wiki/AWK#Zmienne_i_tablice</link></sublink>\n",
      "\n",
      "<sublink linktype=\"nav\"><anchor>Zmienne</anchor><link>https://pl.wikipedia.org/wiki/AWK#Zmienne</link></sublink>\n",
      "\n",
      "<sublink linktype=\"nav\"><anchor>Zmienne wbudowane</anchor><link>https://pl.wikipedia.org/wiki/AWK#Zmienne_wbudowane</link></sublink>\n",
      "\n",
      "<sublink linktype=\"nav\"><anchor>Tablice</anchor><link>https://pl.wikipedia.org/wiki/AWK#Tablice</link></sublink>\n",
      "\n",
      "<sublink linktype=\"nav\"><anchor>Funkcje</anchor><link>https://pl.wikipedia.org/wiki/AWK#Funkcje</link></sublink>\n",
      "\n",
      "<sublink linktype=\"nav\"><anchor>Operatory</anchor><link>https://pl.wikipedia.org/wiki/AWK#Operatory</link></sublink>\n",
      "\n",
      "<sublink linktype=\"nav\"><anchor>Wywołanie programu AWK</anchor><link>https://pl.wikipedia.org/wiki/AWK#Wywołanie_programu_AWK</link></sublink>\n",
      "\n",
      "<sublink linktype=\"nav\"><anchor>Przykłady zastosowań</anchor><link>https://pl.wikipedia.org/wiki/AWK#Przykłady_zastosowań</link></sublink>\n",
      "\n",
      "<sublink linktype=\"nav\"><anchor>Hello World</anchor><link>https://pl.wikipedia.org/wiki/AWK#Hello_World</link></sublink>\n",
      "\n",
      "<sublink linktype=\"nav\"><anchor>Wypisywanie linii zawierających więcej niż 80 znaków</anchor><link>https://pl.wikipedia.org/wiki/AWK#Wypisywanie_linii_zawierających_więcej_niż_80_znaków</link></sublink>\n",
      "\n",
      "<sublink linktype=\"nav\"><anchor>Zliczanie liczby słów</anchor><link>https://pl.wikipedia.org/wiki/AWK#Zliczanie_liczby_słów</link></sublink>\n",
      "\n",
      "<sublink linktype=\"nav\"><anchor>Suma numerów ostatnich słów</anchor><link>https://pl.wikipedia.org/wiki/AWK#Suma_numerów_ostatnich_słów</link></sublink>\n",
      "\n",
      "<sublink linktype=\"nav\"><anchor>Wypisanie określonej liczby pasujących linii wejścia</anchor><link>https://pl.wikipedia.org/wiki/AWK#Wypisanie_określonej_liczby_pasujących_linii_wejścia</link></sublink>\n",
      "\n",
      "<sublink linktype=\"nav\"><anchor>Obliczanie częstotliwości występowania słów</anchor><link>https://pl.wikipedia.org/wiki/AWK#Obliczanie_częstotliwości_występowania_słów</link></sublink>\n",
      "\n",
      "<sublink linktype=\"nav\"><anchor>Samodzielne skrypty AWK</anchor><link>https://pl.wikipedia.org/wiki/AWK#Samodzielne_skrypty_AWK</link></sublink>\n",
      "\n",
      "<sublink linktype=\"nav\"><anchor>Przypisy</anchor><link>https://pl.wikipedia.org/wiki/AWK#Przypisy</link></sublink>\n",
      "\n",
      "<sublink linktype=\"nav\"><anchor>Zobacz też</anchor><link>https://pl.wikipedia.org/wiki/AWK#Zobacz_też</link></sublink>\n",
      "\n",
      "<sublink linktype=\"nav\"><anchor>Linki zewnętrzne</anchor><link>https://pl.wikipedia.org/wiki/AWK#Linki_zewnętrzne</link></sublink>\n",
      "\n",
      "</links>\n",
      "\n",
      "</doc>\n",
      "\n",
      "<doc>\n",
      "\n",
      "<title>Wikipedia: Alergologia</title>\n",
      "\n",
      "<url>https://pl.wikipedia.org/wiki/Alergologia</url>\n",
      "\n",
      "<abstract>Alergologia – dziedzina medycyny zajmująca się rozpoznawaniem i leczeniem schorzeń alergicznych.</abstract>\n",
      "\n",
      "<links>\n",
      "\n",
      "<sublink linktype=\"nav\"><anchor>Zobacz też</anchor><link>https://pl.wikipedia.org/wiki/Alergologia#Zobacz_też</link></sublink>\n",
      "\n",
      "<sublink linktype=\"nav\"><anchor>Przypisy</anchor><link>https://pl.wikipedia.org/wiki/Alergologia#Przypisy</link></sublink>\n",
      "\n",
      "<sublink linktype=\"nav\"><anchor>Linki zewnętrzne</anchor><link>https://pl.wikipedia.org/wiki/Alergologia#Linki_zewnętrzne</link></sublink>\n",
      "\n",
      "</links>\n",
      "\n",
      "</doc>\n",
      "\n",
      "<doc>\n",
      "\n",
      "<title>Wikipedia: ASCII</title>\n",
      "\n",
      "<url>https://pl.wikipedia.org/wiki/ASCII</url>\n",
      "\n",
      "<abstract>ASCII (czyt. aski, skrót od ang. American Standard Code for Information Interchange) – siedmiobitowy system kodowania znaków, używany we współczesnych komputerach oraz sieciach komputerowych, a także innych urządzeniach wyposażonych w mikroprocesor. Przyporządkowuje liczbom z zakresu 0−127: litery alfabetu łacińskiego języka angielskiego, cyfry, znaki przestankowe i inne symbole oraz polecenia sterujące. Na przykład litera „a” jest kodowana jako liczba 97, a znak spacji jest kodowany jako 32. Większość współczesnych systemów kodowania znaków jest rozszerzeniem standardu ASCII.</abstract>\n",
      "\n",
      "<links>\n",
      "\n",
      "<sublink linktype=\"nav\"><anchor>Przegląd</anchor><link>https://pl.wikipedia.org/wiki/ASCII#Przegląd</link></sublink>\n",
      "\n",
      "<sublink linktype=\"nav\"><anchor>Historia</anchor><link>https://pl.wikipedia.org/wiki/ASCII#Historia</link></sublink>\n",
      "\n",
      "<sublink linktype=\"nav\"><anchor>Założenia przyjęte podczas projektowania</anchor><link>https://pl.wikipedia.org/wiki/ASCII#Założenia_przyjęte_podczas_projektowania</link></sublink>\n",
      "\n",
      "<sublink linktype=\"nav\"><anchor>Liczba bitów</anchor><link>https://pl.wikipedia.org/wiki/ASCII#Liczba_bitów</link></sublink>\n",
      "\n",
      "<sublink linktype=\"nav\"><anchor>Podział na grupy znaków</anchor><link>https://pl.wikipedia.org/wiki/ASCII#Podział_na_grupy_znaków</link></sublink>\n",
      "\n",
      "<sublink linktype=\"nav\"><anchor>Podział</anchor><link>https://pl.wikipedia.org/wiki/ASCII#Podział</link></sublink>\n",
      "\n"
     ]
    }
   ],
   "source": [
    "N = 50\n",
    "\n",
    "with open(file_name, encoding=\"utf8\") as myfile:\n",
    "    head = list(islice(myfile, N))\n",
    "\n",
    "for row in list(head):\n",
    "    print(row)"
   ]
  },
  {
   "cell_type": "markdown",
   "metadata": {},
   "source": [
    "## Parse file to XML structure and show no of index"
   ]
  },
  {
   "cell_type": "code",
   "execution_count": 4,
   "metadata": {},
   "outputs": [
    {
     "data": {
      "text/plain": [
       "1383604"
      ]
     },
     "execution_count": 4,
     "metadata": {},
     "output_type": "execute_result"
    }
   ],
   "source": [
    "root = ET.parse(file_name).getroot()\n",
    "len(root)"
   ]
  },
  {
   "cell_type": "markdown",
   "metadata": {},
   "source": [
    "## Some articles have not been well exported to the xml file, so I should skip them. I use a simple scheme - if the description is not long enough, I ignore it. It will also be useful for further exploration of documents, because too short entries are worthless"
   ]
  },
  {
   "cell_type": "code",
   "execution_count": 5,
   "metadata": {},
   "outputs": [],
   "source": [
    "datas = []\n",
    "\n",
    "for doc in list(root.findall('doc')):\n",
    "    title = doc.find('title').text\n",
    "    content = doc.find('abstract').text\n",
    "    if (content == None):\n",
    "        continue\n",
    "    if (len(content.replace(\" \", \"\")) > 40):\n",
    "        data = {}\n",
    "        try:\n",
    "          data['Title'] = title.replace(\"Wikipedia: \", \"\")\n",
    "        except:\n",
    "          continue\n",
    "        data['Content'] = content\n",
    "        datas.append(data)"
   ]
  },
  {
   "cell_type": "markdown",
   "metadata": {},
   "source": [
    "## Preview of the prepared structure that will be added to the elasticsearch database"
   ]
  },
  {
   "cell_type": "code",
   "execution_count": 6,
   "metadata": {},
   "outputs": [
    {
     "name": "stdout",
     "output_type": "stream",
     "text": [
      "AWK\n",
      "AWK – interpretowany język programowania, którego główną funkcją jest wyszukiwanie i przetwarzanie wzorców w plikach lub strumieniach danych. Jest także nazwą programu początkowo dostępnego dla systemów operacyjnych będących pochodnymi UNIX-a, obecnie także na inne platformy.\n",
      "Alergologia\n",
      "Alergologia – dziedzina medycyny zajmująca się rozpoznawaniem i leczeniem schorzeń alergicznych.\n",
      "ASCII\n",
      "ASCII (czyt. aski, skrót od ang. American Standard Code for Information Interchange) – siedmiobitowy system kodowania znaków, używany we współczesnych komputerach oraz sieciach komputerowych, a także innych urządzeniach wyposażonych w mikroprocesor. Przyporządkowuje liczbom z zakresu 0−127: litery alfabetu łacińskiego języka angielskiego, cyfry, znaki przestankowe i inne symbole oraz polecenia sterujące. Na przykład litera „a” jest kodowana jako liczba 97, a znak spacji jest kodowany jako 32. Większość współczesnych systemów kodowania znaków jest rozszerzeniem standardu ASCII.\n",
      "Atom\n",
      "Atom – podstawowy składnik materii. Składa się z małego dodatnio naładowanego jądra o dużej gęstości i otaczającej go chmury elektronowej o ujemnym ładunku elektrycznym.\n",
      "Aksjomat\n",
      "Aksjomat, postulat, pewnik (gr.  axíōma, godność, pewność, oczywistość) – jedno z podstawowych pojęć logiki matematycznej.\n",
      "Alkeny\n",
      "Alkeny – organiczne związki chemiczne z grupy węglowodorów nienasyconych, w których występuje jedno podwójne wiązanie chemiczne między atomami węgla (C=C). Razem ze związkami, które posiadają dwa lub więcej wiązań podwójnych (polienami, takimi jak dieny, trieny itd.\n",
      "ActiveX\n",
      "ActiveX – rodzaj komponentów i kontrolek możliwy do użycia w programach pisanych za pomocą takich narzędzi jak Delphi, Visual Basic, C++, Java, Power Builder i wielu innych. Technologia ActiveX pozwala na przekazywanie danych pomiędzy różnymi aplikacjami działającymi pod kontrolą systemów operacyjnych Windows.\n",
      "Interfejs programowania aplikacji\n",
      "Interfejs programowania aplikacji, interfejs programistyczny aplikacji, API (od ) – sposób, rozumiany jako ściśle określony zestaw reguł i ich opisów, w jaki programy komputerowe komunikują się między sobą.\n",
      "AmigaOS\n",
      "AmigaOS – system operacyjny opracowany przez firmę Commodore International dla produkowanych przez nią komputerów Amiga. Wersja 1.\n",
      "Association for Computing Machinery\n",
      "Association for Computing Machinery (ACM) to największa na świecie społeczność ludzi nauki, nauczycieli i profesjonalistów zajmujących się informatyką. Nazwa w tłumaczeniu na język polski to Stowarzyszenie dla Maszyn Liczących.\n"
     ]
    }
   ],
   "source": [
    "for data in datas[:10]:\n",
    "    print(data['Title'])\n",
    "    print(data['Content'])"
   ]
  },
  {
   "cell_type": "markdown",
   "metadata": {},
   "source": [
    "## Loaded XML file should be deleted from memory, because it requires a lot of memory"
   ]
  },
  {
   "cell_type": "code",
   "execution_count": 7,
   "metadata": {},
   "outputs": [],
   "source": [
    "root.clear()\n",
    "del root"
   ]
  },
  {
   "cell_type": "markdown",
   "metadata": {},
   "source": [
    "## Number of elements after filtering based on length. It is important how much has been ignored"
   ]
  },
  {
   "cell_type": "code",
   "execution_count": 8,
   "metadata": {},
   "outputs": [
    {
     "data": {
      "text/plain": [
       "801499"
      ]
     },
     "execution_count": 8,
     "metadata": {},
     "output_type": "execute_result"
    }
   ],
   "source": [
    "len(datas)"
   ]
  },
  {
   "cell_type": "markdown",
   "metadata": {},
   "source": [
    "## Elastic init"
   ]
  },
  {
   "cell_type": "code",
   "execution_count": 9,
   "metadata": {},
   "outputs": [],
   "source": [
    "es_host = '192.168.1.107'\n",
    "es_port = 9200\n",
    "es_index_name = 'wiki_abstract_pl'\n",
    "\n",
    "es = Elasticsearch(hosts = [{'host': es_host, 'port': es_port}])"
   ]
  },
  {
   "cell_type": "markdown",
   "metadata": {},
   "source": [
    "## Remove old index"
   ]
  },
  {
   "cell_type": "code",
   "execution_count": 10,
   "metadata": {},
   "outputs": [],
   "source": [
    "try:\n",
    "    es.indices.delete(index = es_index_name)\n",
    "except:\n",
    "    print(\"Index not created or already deleted\")"
   ]
  },
  {
   "cell_type": "markdown",
   "metadata": {},
   "source": [
    "## We can now add entries to the database using the configured elasticsearch database API"
   ]
  },
  {
   "cell_type": "code",
   "execution_count": 11,
   "metadata": {},
   "outputs": [
    {
     "name": "stdout",
     "output_type": "stream",
     "text": [
      "done\n",
      "adding documents took: 124 seconds\n"
     ]
    }
   ],
   "source": [
    "start_time = time.time()\n",
    "\n",
    "actions = [\n",
    "    {\n",
    "        \"_index\": es_index_name,\n",
    "        \"_source\": {\n",
    "            \"title\": data['Title'],\n",
    "            \"content\": data['Content'],\n",
    "            \"timestamp\": datetime.datetime.now()}\n",
    "    }\n",
    "    for data in datas\n",
    "]\n",
    "\n",
    "helpers.bulk(es, actions)\n",
    "\n",
    "print(\"done\")\n",
    "\n",
    "elapsed_time = time.time() - start_time\n",
    "print(\"adding documents took: \" + str(round(elapsed_time)) + \" seconds\")"
   ]
  },
  {
   "cell_type": "markdown",
   "metadata": {},
   "source": [
    "## Check if files exists (response = 200)"
   ]
  },
  {
   "cell_type": "code",
   "execution_count": 12,
   "metadata": {},
   "outputs": [
    {
     "name": "stdout",
     "output_type": "stream",
     "text": [
      "Response code: 200\n"
     ]
    }
   ],
   "source": [
    "index_url = \"http://192.168.1.107:9200/wiki_abstract_pl/\"\n",
    "response = requests.get(index_url)\n",
    "print(\"Response code: \" + str(response.status_code))"
   ]
  }
 ],
 "metadata": {
  "kernelspec": {
   "display_name": "Python 3",
   "language": "python",
   "name": "python3"
  },
  "language_info": {
   "codemirror_mode": {
    "name": "ipython",
    "version": 3
   },
   "file_extension": ".py",
   "mimetype": "text/x-python",
   "name": "python",
   "nbconvert_exporter": "python",
   "pygments_lexer": "ipython3",
   "version": "3.7.4"
  }
 },
 "nbformat": 4,
 "nbformat_minor": 2
}
